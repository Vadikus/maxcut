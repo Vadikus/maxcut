{
  "cells": [
    {
      "cell_type": "markdown",
      "source": [
        "# Tutorial: Maximum Cut via Quantum Imaginary Time Evolution (QITE)\n",
        "## By: Willie Aboumrad, Senior Quantum Applications Scientist at IonQ\n",
        "\n",
        "Quantum computers are poised to solve problems that are currently intractable,\n",
        "and IonQ is leading the way. In this tutorial, we demonstrate how to leverage\n",
        "[IonQ Forte][1]'s industry-leading capabilities to solve instances of the\n",
        "[NP-hard][2] combinatorial optimization problem with many wide-ranging applications known as\n",
        "[Maximum Cut (MaxCut)][3] using a\n",
        "[novel Variational Quantum Imaginary Time Evolution (varQITE)][4] algorithm\n",
        "developed by IonQ in conjunction with researchers at Oak Ridge National Labs\n",
        "(ORNL).\n",
        "\n",
        "\n",
        "[1]: https://ionq.com/forte\n",
        "[2]: https://en.wikipedia.org/wiki/NP-hardness\n",
        "[3]: https://en.wikipedia.org/wiki/Maximum_cut\n",
        "[4]: https://arxiv.org/pdf/2404.16135\n",
        "\n",
        "\n",
        "In this challenge, you will learn to:\n",
        "1. **Understand the MaxCut problem** and its significance in various real-world contexts.\n",
        "2. **Formulate MaxCut as a Hamiltonian minimization problem**, bridging classical combinatorial optimization with quantum computation.\n",
        "3. **Explore the concept of Quantum Imaginary Time Evolution (QITE) and the varQITE algorithm**, a way to update circuit parameters without a traditional classical optimizer.\n",
        "4. **Implement varQITE to solve small instances of MaxCut**, running circuits on IonQ’s state-of-the-art hardware or a simulator.\n",
        "\n",
        "**What you need to know before starting:**\n",
        "- Basic knowledge of quantum computing concepts: qubits, Pauli matrices, and the computational basis.\n",
        "- Familiarity with variational quantum algorithms (e.g., VQE, QAOA) is helpful but not strictly required.\n",
        "- Some understanding of Python and the Qiskit framework.\n",
        "\n",
        "**Why MaxCut?**  \n",
        "The MaxCut problem is **NP-hard**, making it computationally difficult for large instances. It is a well-studied problem in theoretical computer science, optimization, and quantum information. From observing how a particular quantum algorithm tackles MaxCut we can get insights into the future of quantum advantage in various optimization tasks.\n",
        "\n",
        "## Real-World Significance of MaxCut\n",
        "\n",
        "MaxCut has numerous applications in a variety of fields:\n",
        "\n",
        "- **VLSI design:** MaxCut helps in partitioning circuit components to minimize signal delay or interference.\n",
        "- **Social network analysis:** MaxCut can detect communities or clusters by separating heavily connected subgraphs.\n",
        "- **Image segmentation:** MaxCut-based models can separate an image into different segments for pattern recognition tasks.\n",
        "\n",
        "References for further reading on MaxCut applications:\n",
        "\n",
        "# TODO: add some reference links here\n",
        "\n",
        "MaxCut is a graph problem: given a graph $G = (V, E)$ with vertex set $V$ and\n",
        "edge set $E$, it asks for a partition of $V$ into sets $S$ and $T$ maximizing\n",
        "the number of edges crossing between $S$ and $T$.\n",
        "\n",
        "The code cell below illustrates a simple graph with four vertices and five\n",
        "edges.\n"
      ],
      "metadata": {
        "id": "Lop-v4bI7QJU"
      },
      "id": "Lop-v4bI7QJU"
    },
    {
      "cell_type": "code",
      "execution_count": null,
      "id": "1f4fbd3c-83ca-4ceb-834c-27d7c4bf1fca",
      "metadata": {
        "colab": {
          "base_uri": "https://localhost:8080/",
          "height": 459
        },
        "id": "1f4fbd3c-83ca-4ceb-834c-27d7c4bf1fca",
        "outputId": "3e09e3bc-9d0e-4c64-a2e8-300c7b5b4cd8"
      },
      "outputs": [
        {
          "output_type": "display_data",
          "data": {
            "text/plain": [
              "<Figure size 600x400 with 1 Axes>"
            ],
            "image/png": "[encoded data removed]"
          },
          "metadata": {}
        }
      ],
      "source": [
        "import networkx as nx\n",
        "import matplotlib.pyplot as plt\n",
        "\n",
        "# Construct your favorite graph using NetworkX\n",
        "num_nodes = 4\n",
        "graph = nx.Graph()\n",
        "graph.add_nodes_from(range(num_nodes))\n",
        "graph.add_edges_from([(0, 1), (0, 2), (0, 3), (1, 2), (2, 3)])\n",
        "\n",
        "# edges = [(0, 1), (0, 2), (0, 3), (1, 2), (2, 3)]\n",
        "# graph = nx.Graph()\n",
        "# graph.add_edges_from(edges)\n",
        "\n",
        "pos = nx.spring_layout(graph, seed=42) # reproducible layout\n",
        "plt.figure(figsize=(6,4))\n",
        "nx.draw(graph, pos=pos, with_labels=True, node_size=600, edge_color='gray')\n",
        "plt.title(\"Original Graph for MaxCut\")\n",
        "plt.show()\n",
        "\n",
        "# Fix node positions\n",
        "# pos = nx.spring_layout(graph)\n",
        "# nx.draw(graph, labels={node: node for node in graph.nodes}, pos=pos)"
      ]
    },
    {
      "cell_type": "markdown",
      "source": [
        "\n",
        "\n",
        "---\n",
        "\n"
      ],
      "metadata": {
        "id": "m-B9hFHNOg1S"
      },
      "id": "m-B9hFHNOg1S"
    },
    {
      "cell_type": "markdown",
      "source": [
        "## Formulating the MaxCut Problem\n",
        "\n",
        "We now use the classical [Quadratic Program (QP)][5] formulation to express MaxCut. Each node $v \\in V$ is assigned a binary variable $x_v \\in \\{0,1\\}$, and the objective is to maximize the sum of edges cut by this partition.\n",
        "\n",
        "**MaxCut QP Formulation:**\n",
        "\n",
        "$$\\text{maximize} \\quad \\frac{1}{2}\\sum_{(i,j)\\in E}(x_i - x_j)^2$$\n",
        "\n",
        "Here, $(x_i - x_j)^2$ equals `1` if the endpoints differ, and `0` otherwise.\n",
        "\n",
        "We use `docplex` and Qiskit’s optimization module for this step.\n",
        "\n",
        "[5]: https://en.wikipedia.org/wiki/Quadratic_programming\n"
      ],
      "metadata": {
        "id": "VPxJeoV6O5Wk"
      },
      "id": "VPxJeoV6O5Wk"
    },
    {
      "cell_type": "code",
      "execution_count": null,
      "id": "81ff114c-c071-4ef6-a5cf-8f863ec4fc31",
      "metadata": {
        "colab": {
          "base_uri": "https://localhost:8080/"
        },
        "id": "81ff114c-c071-4ef6-a5cf-8f863ec4fc31",
        "outputId": "7c35853a-923f-4527-8692-8a4761c3ec1f"
      },
      "outputs": [
        {
          "output_type": "stream",
          "name": "stdout",
          "text": [
            "Quandratic Program:\n",
            "Problem name: Max-cut\n",
            "\n",
            "Maximize\n",
            "  -2*x_0*x_1 - 2*x_0*x_2 - 2*x_0*x_3 - 2*x_1*x_2 - 2*x_2*x_3 + 3*x_0 + 2*x_1\n",
            "  + 3*x_2 + 2*x_3\n",
            "\n",
            "Subject to\n",
            "  No constraints\n",
            "\n",
            "  Binary variables (4)\n",
            "    x_0 x_1 x_2 x_3\n",
            "\n"
          ]
        }
      ],
      "source": [
        "import numpy as np\n",
        "from qiskit_optimization.applications import Maxcut\n",
        "from docplex.mp.model import Model\n",
        "\n",
        "# Convert our NetworkX graph to a Maxcut model\n",
        "maxcut = Maxcut(graph)\n",
        "qp = maxcut.to_quadratic_program()\n",
        "\n",
        "print(\"Quandratic Program:\")\n",
        "print(qp.prettyprint())\n"
      ]
    },
    {
      "cell_type": "markdown",
      "source": [
        "\n",
        "\n",
        "---\n",
        "\n"
      ],
      "metadata": {
        "id": "K_ti0C80QG7n"
      },
      "id": "K_ti0C80QG7n"
    },
    {
      "cell_type": "markdown",
      "id": "cb89147d-e0c8-45f4-a898-c143dedbc3c6",
      "metadata": {
        "id": "cb89147d-e0c8-45f4-a898-c143dedbc3c6"
      },
      "source": [
        "## As a Hamiltonian energy minimization problem\n",
        "### Quantum MaxCut\n",
        "\n",
        "Quantum computers are good at finding the ground state of particle systems\n",
        "evolving under the action of a given Hamiltonian. In this section, we'll\n",
        "construct a Hamiltonian whose energies are exactly the values of the MaxCut\n",
        "objective function. This correspondence will effectively translate our\n",
        "classical combinatorial optimization problem into a quantum problem, which\n",
        "we'll approach using our novel heuristic.\n",
        "\n",
        "Given an objective function $C(x)$, with domain $x \\in \\{0, 1\\}^n$, we'll\n",
        "produce a Hamiltonian $H_C$ on $n$ qubits such that\n",
        "$$\n",
        "    H_C \\ket{x} = C(x) \\ket{x}.\n",
        "$$\n",
        "In the last equation, $\\ket{x}$ denotes the $n$-qubit\n",
        "[computational basis][10] state indexed by the bit-string $x \\in \\{0, 1\\}$.\n",
        "Thus the last equation says each of the $2^n$ computational basis states is an\n",
        "eigenvector of $H_C$, and the eigenvalue corresponding to $\\ket{x}$ is $C(x)$;\n",
        "that is, $H_C$ is diagonal with respect to the computational basis, and its\n",
        "energies are the values of the objective function $C$.\n",
        "\n",
        "We'll obtain the Hamiltonian $H_C$ by replacing each $x_j$ in the expression of\n",
        "$C(x)$ by the operator\n",
        "$$\n",
        "    \\hat{X}_j \\coloneqq \\frac{1}{2}(I - Z_j),\n",
        "$$\n",
        "where $I$ denotes the identity operator on $n$ qubits and $Z_j$ denotes the\n",
        "[Pauli-Z][11] operator acting on the $j$th qubit. Notice that $\\hat{X}_j$ is\n",
        "diagonal with respect to the computational basis, and its eigenvalues are zero\n",
        "and one; in particular,\n",
        "$$\n",
        "    \\hat{X}_j \\ket{x} = x_j \\ket{x}.\n",
        "$$\n",
        "\n",
        "### MaxCut Hamiltonian\n",
        "\n",
        "When we apply the Ising map construction to the MaxCut objective\n",
        "$$\n",
        "    M(x) = \\sum_{(v, w) \\in E} (x_v + x_w - 2 x_v x_w)\n",
        "$$\n",
        "we obtain the Hamiltonian\n",
        "$$\n",
        "    H_M = \\sum_{(v, w) \\in E} (X_v + X_w - 2 X_v X_w)\n",
        "    = \\frac{1}{2} \\sum_{(v, w) \\in E} \\big(2 I - Z_v - Z_w - (I - Z_v)(I - Z_w)\\big)\n",
        "    = \\frac{1}{2}|E| - \\frac{1}{2} \\sum_{(v, w) \\in E} Z_v Z_w.\n",
        "$$\n",
        "In the last equation, $|E|$ denotes the number of edges in the graph.\n",
        "\n",
        "The code cell below illustrates the construction of the MaxCut Hamiltonian, via\n",
        "the Ising map, corresponding to a simple graph.\n",
        "\n",
        "[10]: https://en.wikipedia.org/wiki/Qubit#Standard_representation\n",
        "[11]: https://en.wikipedia.org/wiki/Pauli_matrices"
      ]
    },
    {
      "cell_type": "code",
      "execution_count": null,
      "id": "1ca045df-6bb8-4407-b486-44fa47d31e81",
      "metadata": {
        "colab": {
          "base_uri": "https://localhost:8080/"
        },
        "id": "1ca045df-6bb8-4407-b486-44fa47d31e81",
        "outputId": "473027a0-2370-49bc-8716-7bf70b522658"
      },
      "outputs": [
        {
          "output_type": "stream",
          "name": "stdout",
          "text": [
            "Maxcut Hamiltonian: SparsePauliOp(['IIZZ', 'IZIZ', 'ZIIZ', 'IZZI', 'ZZII', 'IIII'],\n",
            "              coeffs=[-0.5+0.j, -0.5+0.j, -0.5+0.j, -0.5+0.j, -0.5+0.j,  2.5+0.j])\n"
          ]
        }
      ],
      "source": [
        "from qiskit.quantum_info import SparsePauliOp\n",
        "\n",
        "# Compute the MaxCut Hamiltonian\n",
        "paulis = [(\"ZZ\", [v, w], -1/2) for v, w in graph.edges]\n",
        "maxcut_ham = SparsePauliOp.from_sparse_list(paulis, num_qubits=graph.number_of_nodes())\n",
        "maxcut_ham += 1/2 * graph.number_of_edges() * SparsePauliOp(\"I\" * graph.number_of_nodes())\n",
        "print(\"Maxcut Hamiltonian:\", maxcut_ham)"
      ]
    },
    {
      "cell_type": "markdown",
      "id": "7999dae6-da3e-4520-a658-1b28874a9376",
      "metadata": {
        "id": "7999dae6-da3e-4520-a658-1b28874a9376"
      },
      "source": [
        "## Energy minimization via QITE\n",
        "### Enter varQITE\n",
        "\n",
        "With the MaxCut Hamiltonian in hand, we can turn to minimizing its energy using\n",
        "our [novel quantum-classical varQITE heuristic][1]. Much like any Variataional\n",
        "Quantum Algorithm (VQA), our novel varQITE method provides a recipe for\n",
        "iteratively updating the parameters in a variational quantum circuit to\n",
        "minimize the expectation value of the MaxCut Hamiltonian, measured with respect\n",
        "to the parametrized state.\n",
        "\n",
        "A key novelty is that our varQITE algorithm does *not* rely on a classical\n",
        "optimizer to update the circuit parameters; instead, it specifies an explicit\n",
        "update rule based on the solution of a system linear Ordinary Differential\n",
        "Equations (ODEs). The ODEs relate the gradient of the variational circuit\n",
        "parameters to the expected value of certain operators related to the MaxCut\n",
        "Hamiltonian, and they are derived from an [Ehrenfest Theorem][3] that applies\n",
        "to [imaginary time evolution][4]. For details, see Equation (5) in our [varQITE\n",
        "paper][1].\n",
        "\n",
        "In any case, setting up the ODE system at each step of the algorithm requires\n",
        "executing a batch of quantum circuits and running some post-processing to\n",
        "evaluate the results.\n",
        "\n",
        "The code cell below illustrates how to set up the variational ansatz\n",
        "$\\ket{\\Psi(\\theta)}$ introduced by our [varQITE paper][1] in Equation (2).\n",
        "We'll set up the required circuits and the ODEs further down.\n",
        "\n",
        "[1]: https://arxiv.org/abs/2404.16135\n",
        "[2]: https://www.nature.com/articles/s42254-021-00348-9\n",
        "[3]: https://en.wikipedia.org/wiki/Ehrenfest_theorem\n",
        "[4]: https://en.wikipedia.org/wiki/Imaginary_time"
      ]
    },
    {
      "cell_type": "code",
      "source": [
        "pip install pylatexenc"
      ],
      "metadata": {
        "colab": {
          "base_uri": "https://localhost:8080/"
        },
        "id": "yyFyKgp-kZrp",
        "outputId": "56921b55-117c-4cf8-81cb-8162f5dd2a36"
      },
      "id": "yyFyKgp-kZrp",
      "execution_count": null,
      "outputs": [
        {
          "output_type": "stream",
          "name": "stdout",
          "text": [
            "Requirement already satisfied: pylatexenc in /usr/local/lib/python3.10/dist-packages (2.10)\n"
          ]
        }
      ]
    },
    {
      "cell_type": "code",
      "execution_count": null,
      "id": "c55c64db-40ed-4401-98e6-1a22bf8c0cac",
      "metadata": {
        "colab": {
          "base_uri": "https://localhost:8080/",
          "height": 258
        },
        "id": "c55c64db-40ed-4401-98e6-1a22bf8c0cac",
        "outputId": "59f7f99c-0cfc-44e5-87ae-446e0ee30bc6"
      },
      "outputs": [
        {
          "output_type": "execute_result",
          "data": {
            "text/plain": [
              "<Figure size 1708.89x367.889 with 1 Axes>"
            ],
            "image/png": "[encoded data removed]"
          },
          "metadata": {},
          "execution_count": 5
        }
      ],
      "source": [
        "from qiskit import QuantumCircuit\n",
        "from qiskit.circuit import ParameterVector\n",
        "\n",
        "# Construct your favorite ansatz\n",
        "ansatz = QuantumCircuit(graph.number_of_nodes())\n",
        "\n",
        "# Use a uniform superposition as the initial state\n",
        "ansatz.h(range(ansatz.num_qubits))\n",
        "ansatz.barrier()\n",
        "\n",
        "# Place entangling gates across qubit pairs that are connected in the graph\n",
        "complete_graph = nx.complete_graph(graph.number_of_nodes())\n",
        "params = ParameterVector(r\"$\\theta$\", complete_graph.number_of_edges())\n",
        "for theta, (u, v) in zip(params, complete_graph.edges):\n",
        "    ansatz.cx(u, v)\n",
        "    ansatz.ry(theta, v)\n",
        "    ansatz.cx(u, v)\n",
        "ansatz.draw(\"mpl\")"
      ]
    },
    {
      "cell_type": "markdown",
      "id": "341f3310-f316-44f4-b141-97bd56f33f90",
      "metadata": {
        "id": "341f3310-f316-44f4-b141-97bd56f33f90"
      },
      "source": [
        "We'll now use our ``ansatz`` to generate all the circuits that are needed to\n",
        "compute the coefficients in the ODEs in Equation (5). We'll need $2n + 1$\n",
        "circuits in total: $1$ to compute the expected value of $H_M$, and $2n$ to\n",
        "compute its gradient with respect to the $n$ circuit parameters."
      ]
    },
    {
      "cell_type": "code",
      "execution_count": null,
      "id": "eae83d07-d67e-43bf-bc7d-e8d5d9428a04",
      "metadata": {
        "id": "eae83d07-d67e-43bf-bc7d-e8d5d9428a04"
      },
      "outputs": [],
      "source": [
        "import math\n",
        "\n",
        "# Set the current iteration parameters\n",
        "# Play with this value! Make it whatever you'd like!!!\n",
        "curr_params = [0] * ansatz.num_parameters\n",
        "\n",
        "# Get the energy evaluation circuit\n",
        "iter_circuits = list()\n",
        "iter_circuits.append(ansatz.assign_parameters(curr_params))\n",
        "\n",
        "# Get the 2n gradient circuits via the parameter shift rule\n",
        "theta = ansatz.parameters\n",
        "for k in range(ansatz.num_parameters):\n",
        "    for pm in range(2):\n",
        "        pm_shift = {symb: val + (-1)**pm * (j == k) * math.pi / 2 for j, (symb, val) in enumerate(zip(theta, curr_params))}\n",
        "        iter_circuits.append(ansatz.assign_parameters(pm_shift))\n",
        "\n",
        "# Sanity check\n",
        "assert len(iter_circuits) == 2 * ansatz.num_parameters + 1, \"Incorrect number of circuits!\""
      ]
    },
    {
      "cell_type": "markdown",
      "id": "c2bda0a4-b78e-4c70-a1c4-85ac07e59233",
      "metadata": {
        "id": "c2bda0a4-b78e-4c70-a1c4-85ac07e59233"
      },
      "source": [
        "We can now execute the required ``iter_circuits`` using an IonQ QPU like IonQ\n",
        "Forte!\n",
        "\n",
        "The code cell below illustrates how to run this calculation. Replace the\n",
        "``\"simulator\"`` target by ``\"forte-1\"`` when you're ready to run on the real\n",
        "QPU!\n",
        "\n",
        "Make sure you've exported your IonQ API key as the ``IONQ_API_KEY`` environment\n",
        "variable before running the next cell!"
      ]
    },
    {
      "cell_type": "code",
      "execution_count": null,
      "id": "9ce2e30e-bad4-4cf9-a5c6-bed0841cd9aa",
      "metadata": {
        "id": "9ce2e30e-bad4-4cf9-a5c6-bed0841cd9aa",
        "outputId": "6bccfa34-427e-4c29-d7a5-f058970c6b02"
      },
      "outputs": [
        {
          "ename": "ImportError",
          "evalue": "cannot import name 'Backend' from 'ionq' (unknown location)",
          "output_type": "error",
          "traceback": [
            "\u001b[0;31m---------------------------------------------------------------------------\u001b[0m",
            "\u001b[0;31mImportError\u001b[0m                               Traceback (most recent call last)",
            "Cell \u001b[0;32mIn[58], line 1\u001b[0m\n\u001b[0;32m----> 1\u001b[0m \u001b[38;5;28;01mfrom\u001b[39;00m \u001b[38;5;21;01mionq\u001b[39;00m \u001b[38;5;28;01mimport\u001b[39;00m Backend\n\u001b[1;32m      3\u001b[0m \u001b[38;5;66;03m# Choose your backend target\u001b[39;00m\n\u001b[1;32m      4\u001b[0m target \u001b[38;5;241m=\u001b[39m \u001b[38;5;124m\"\u001b[39m\u001b[38;5;124msimulator\u001b[39m\u001b[38;5;124m\"\u001b[39m\n",
            "\u001b[0;31mImportError\u001b[0m: cannot import name 'Backend' from 'ionq' (unknown location)"
          ]
        }
      ],
      "source": [
        "from ionq import Backend\n",
        "\n",
        "# Choose your backend target\n",
        "target = \"simulator\"\n",
        "\n",
        "# Set up a backend object and execute your circuits!\n",
        "backend = Backend(target)\n",
        "job = backend.run(iter_circuits, shots=1_000, name=\"QITE iteration\")\n",
        "\n",
        "# Get the results\n",
        "counts = job.results()"
      ]
    },
    {
      "cell_type": "markdown",
      "id": "889da883-9b68-4a2a-b2c0-bbeffe46840c",
      "metadata": {
        "id": "889da883-9b68-4a2a-b2c0-bbeffe46840c"
      },
      "source": [
        "With the circuit counts in hand, we can run some post-processing classical code\n",
        "to set up and solve the ODEs described in Equation (5).\n",
        "\n",
        "In this demo, we've used optimized parameters from a previous run. So we can\n",
        "retrieve varQITE's top solution candidates from the counts of the zeroth circuit."
      ]
    },
    {
      "cell_type": "code",
      "execution_count": null,
      "id": "f3b50e45-34f1-4f27-bb42-058e90968ab7",
      "metadata": {
        "colab": {
          "base_uri": "https://localhost:8080/",
          "height": 216
        },
        "id": "f3b50e45-34f1-4f27-bb42-058e90968ab7",
        "outputId": "ca2ee93f-47fa-488e-a3c8-3cf06ece8f28"
      },
      "outputs": [
        {
          "output_type": "error",
          "ename": "NameError",
          "evalue": "name 'counts' is not defined",
          "traceback": [
            "\u001b[0;31m---------------------------------------------------------------------------\u001b[0m",
            "\u001b[0;31mNameError\u001b[0m                                 Traceback (most recent call last)",
            "\u001b[0;32m<ipython-input-7-d5601a8b4b82>\u001b[0m in \u001b[0;36m<cell line: 3>\u001b[0;34m()\u001b[0m\n\u001b[1;32m      1\u001b[0m \u001b[0;32mfrom\u001b[0m \u001b[0mqiskit_optimization\u001b[0m\u001b[0;34m.\u001b[0m\u001b[0mapplications\u001b[0m \u001b[0;32mimport\u001b[0m \u001b[0mMaxcut\u001b[0m\u001b[0;34m\u001b[0m\u001b[0;34m\u001b[0m\u001b[0m\n\u001b[1;32m      2\u001b[0m \u001b[0;34m\u001b[0m\u001b[0m\n\u001b[0;32m----> 3\u001b[0;31m \u001b[0mtop_candidates\u001b[0m \u001b[0;34m=\u001b[0m \u001b[0msorted\u001b[0m\u001b[0;34m(\u001b[0m\u001b[0mcounts\u001b[0m\u001b[0;34m,\u001b[0m \u001b[0mkey\u001b[0m\u001b[0;34m=\u001b[0m\u001b[0;32mlambda\u001b[0m \u001b[0mbitstring\u001b[0m\u001b[0;34m:\u001b[0m \u001b[0mcounts\u001b[0m\u001b[0;34m[\u001b[0m\u001b[0mbitstring\u001b[0m\u001b[0;34m]\u001b[0m\u001b[0;34m,\u001b[0m \u001b[0mreverse\u001b[0m\u001b[0;34m=\u001b[0m\u001b[0;32mTrue\u001b[0m\u001b[0;34m)\u001b[0m\u001b[0;34m\u001b[0m\u001b[0;34m\u001b[0m\u001b[0m\n\u001b[0m\u001b[1;32m      4\u001b[0m \u001b[0;34m\u001b[0m\u001b[0m\n\u001b[1;32m      5\u001b[0m \u001b[0;31m# Draw the best candidate\u001b[0m\u001b[0;34m\u001b[0m\u001b[0;34m\u001b[0m\u001b[0m\n",
            "\u001b[0;31mNameError\u001b[0m: name 'counts' is not defined"
          ]
        }
      ],
      "source": [
        "from qiskit_optimization.applications import Maxcut\n",
        "\n",
        "top_candidates = sorted(counts, key=lambda bitstring: counts[bitstring], reverse=True)\n",
        "\n",
        "# Draw the best candidate\n",
        "Maxcut(graph).draw(top_candidates[0])"
      ]
    }
  ],
  "metadata": {
    "kernelspec": {
      "display_name": "Python 3 (ipykernel)",
      "language": "python",
      "name": "python3"
    },
    "language_info": {
      "codemirror_mode": {
        "name": "ipython",
        "version": 3
      },
      "file_extension": ".py",
      "mimetype": "text/x-python",
      "name": "python",
      "nbconvert_exporter": "python",
      "pygments_lexer": "ipython3",
      "version": "3.11.10"
    },
    "colab": {
      "provenance": []
    }
  },
  "nbformat": 4,
  "nbformat_minor": 5
}